{
  "cells": [
    {
      "cell_type": "markdown",
      "metadata": {
        "id": "TUoTbFA6WJL9"
      },
      "source": [
        "### **Building a Machine Learning workflow (MLOPs) to predict housing prices using the `California Housing dataset`**"
      ]
    },
    {
      "cell_type": "markdown",
      "metadata": {
        "id": "rPJVR6L3mJjQ"
      },
      "source": [
        "#### **1. Loading Data**"
      ]
    },
    {
      "cell_type": "code",
      "execution_count": 1,
      "metadata": {
        "id": "3VIthZE8pLgY"
      },
      "outputs": [],
      "source": [
        "# Importing required libraries\n",
        "import pandas as pd\n",
        "import numpy as np\n",
        "import matplotlib.pyplot as plt\n",
        "import seaborn as sns\n",
        "from sklearn.datasets import fetch_california_housing"
      ]
    },
    {
      "cell_type": "code",
      "execution_count": 2,
      "metadata": {
        "id": "D8lPwrfzmRx1"
      },
      "outputs": [],
      "source": [
        "# Loading the data\n",
        "california = fetch_california_housing()\n",
        "housing_df = pd.concat([pd.DataFrame(california.data, columns=california.feature_names), pd.DataFrame(california.target, columns=['MedianHouseValue'])], axis=1)"
      ]
    },
    {
      "cell_type": "markdown",
      "metadata": {
        "id": "mfjteGK-mJWx"
      },
      "source": [
        "#### **2. Exploring Data**"
      ]
    },
    {
      "cell_type": "code",
      "execution_count": 3,
      "metadata": {
        "colab": {
          "base_uri": "https://localhost:8080/",
          "height": 206
        },
        "id": "Ixrlffdons6Q",
        "outputId": "289e9333-76eb-436a-8741-9e672aff3036"
      },
      "outputs": [
        {
          "data": {
            "text/html": [
              "<div>\n",
              "<style scoped>\n",
              "    .dataframe tbody tr th:only-of-type {\n",
              "        vertical-align: middle;\n",
              "    }\n",
              "\n",
              "    .dataframe tbody tr th {\n",
              "        vertical-align: top;\n",
              "    }\n",
              "\n",
              "    .dataframe thead th {\n",
              "        text-align: right;\n",
              "    }\n",
              "</style>\n",
              "<table border=\"1\" class=\"dataframe\">\n",
              "  <thead>\n",
              "    <tr style=\"text-align: right;\">\n",
              "      <th></th>\n",
              "      <th>MedInc</th>\n",
              "      <th>HouseAge</th>\n",
              "      <th>AveRooms</th>\n",
              "      <th>AveBedrms</th>\n",
              "      <th>Population</th>\n",
              "      <th>AveOccup</th>\n",
              "      <th>Latitude</th>\n",
              "      <th>Longitude</th>\n",
              "      <th>MedianHouseValue</th>\n",
              "    </tr>\n",
              "  </thead>\n",
              "  <tbody>\n",
              "    <tr>\n",
              "      <th>0</th>\n",
              "      <td>8.3252</td>\n",
              "      <td>41.0</td>\n",
              "      <td>6.984127</td>\n",
              "      <td>1.023810</td>\n",
              "      <td>322.0</td>\n",
              "      <td>2.555556</td>\n",
              "      <td>37.88</td>\n",
              "      <td>-122.23</td>\n",
              "      <td>4.526</td>\n",
              "    </tr>\n",
              "    <tr>\n",
              "      <th>1</th>\n",
              "      <td>8.3014</td>\n",
              "      <td>21.0</td>\n",
              "      <td>6.238137</td>\n",
              "      <td>0.971880</td>\n",
              "      <td>2401.0</td>\n",
              "      <td>2.109842</td>\n",
              "      <td>37.86</td>\n",
              "      <td>-122.22</td>\n",
              "      <td>3.585</td>\n",
              "    </tr>\n",
              "    <tr>\n",
              "      <th>2</th>\n",
              "      <td>7.2574</td>\n",
              "      <td>52.0</td>\n",
              "      <td>8.288136</td>\n",
              "      <td>1.073446</td>\n",
              "      <td>496.0</td>\n",
              "      <td>2.802260</td>\n",
              "      <td>37.85</td>\n",
              "      <td>-122.24</td>\n",
              "      <td>3.521</td>\n",
              "    </tr>\n",
              "    <tr>\n",
              "      <th>3</th>\n",
              "      <td>5.6431</td>\n",
              "      <td>52.0</td>\n",
              "      <td>5.817352</td>\n",
              "      <td>1.073059</td>\n",
              "      <td>558.0</td>\n",
              "      <td>2.547945</td>\n",
              "      <td>37.85</td>\n",
              "      <td>-122.25</td>\n",
              "      <td>3.413</td>\n",
              "    </tr>\n",
              "    <tr>\n",
              "      <th>4</th>\n",
              "      <td>3.8462</td>\n",
              "      <td>52.0</td>\n",
              "      <td>6.281853</td>\n",
              "      <td>1.081081</td>\n",
              "      <td>565.0</td>\n",
              "      <td>2.181467</td>\n",
              "      <td>37.85</td>\n",
              "      <td>-122.25</td>\n",
              "      <td>3.422</td>\n",
              "    </tr>\n",
              "  </tbody>\n",
              "</table>\n",
              "</div>"
            ],
            "text/plain": [
              "   MedInc  HouseAge  AveRooms  AveBedrms  Population  AveOccup  Latitude  \\\n",
              "0  8.3252      41.0  6.984127   1.023810       322.0  2.555556     37.88   \n",
              "1  8.3014      21.0  6.238137   0.971880      2401.0  2.109842     37.86   \n",
              "2  7.2574      52.0  8.288136   1.073446       496.0  2.802260     37.85   \n",
              "3  5.6431      52.0  5.817352   1.073059       558.0  2.547945     37.85   \n",
              "4  3.8462      52.0  6.281853   1.081081       565.0  2.181467     37.85   \n",
              "\n",
              "   Longitude  MedianHouseValue  \n",
              "0    -122.23             4.526  \n",
              "1    -122.22             3.585  \n",
              "2    -122.24             3.521  \n",
              "3    -122.25             3.413  \n",
              "4    -122.25             3.422  "
            ]
          },
          "execution_count": 3,
          "metadata": {},
          "output_type": "execute_result"
        }
      ],
      "source": [
        "# Top 5 rows\n",
        "housing_df.head()"
      ]
    },
    {
      "cell_type": "code",
      "execution_count": 4,
      "metadata": {
        "colab": {
          "base_uri": "https://localhost:8080/",
          "height": 206
        },
        "id": "SYO-aekxn8iT",
        "outputId": "3f93bc7c-fc89-40ca-ef8c-3eadcd5730f6"
      },
      "outputs": [
        {
          "data": {
            "text/html": [
              "<div>\n",
              "<style scoped>\n",
              "    .dataframe tbody tr th:only-of-type {\n",
              "        vertical-align: middle;\n",
              "    }\n",
              "\n",
              "    .dataframe tbody tr th {\n",
              "        vertical-align: top;\n",
              "    }\n",
              "\n",
              "    .dataframe thead th {\n",
              "        text-align: right;\n",
              "    }\n",
              "</style>\n",
              "<table border=\"1\" class=\"dataframe\">\n",
              "  <thead>\n",
              "    <tr style=\"text-align: right;\">\n",
              "      <th></th>\n",
              "      <th>MedInc</th>\n",
              "      <th>HouseAge</th>\n",
              "      <th>AveRooms</th>\n",
              "      <th>AveBedrms</th>\n",
              "      <th>Population</th>\n",
              "      <th>AveOccup</th>\n",
              "      <th>Latitude</th>\n",
              "      <th>Longitude</th>\n",
              "      <th>MedianHouseValue</th>\n",
              "    </tr>\n",
              "  </thead>\n",
              "  <tbody>\n",
              "    <tr>\n",
              "      <th>20635</th>\n",
              "      <td>1.5603</td>\n",
              "      <td>25.0</td>\n",
              "      <td>5.045455</td>\n",
              "      <td>1.133333</td>\n",
              "      <td>845.0</td>\n",
              "      <td>2.560606</td>\n",
              "      <td>39.48</td>\n",
              "      <td>-121.09</td>\n",
              "      <td>0.781</td>\n",
              "    </tr>\n",
              "    <tr>\n",
              "      <th>20636</th>\n",
              "      <td>2.5568</td>\n",
              "      <td>18.0</td>\n",
              "      <td>6.114035</td>\n",
              "      <td>1.315789</td>\n",
              "      <td>356.0</td>\n",
              "      <td>3.122807</td>\n",
              "      <td>39.49</td>\n",
              "      <td>-121.21</td>\n",
              "      <td>0.771</td>\n",
              "    </tr>\n",
              "    <tr>\n",
              "      <th>20637</th>\n",
              "      <td>1.7000</td>\n",
              "      <td>17.0</td>\n",
              "      <td>5.205543</td>\n",
              "      <td>1.120092</td>\n",
              "      <td>1007.0</td>\n",
              "      <td>2.325635</td>\n",
              "      <td>39.43</td>\n",
              "      <td>-121.22</td>\n",
              "      <td>0.923</td>\n",
              "    </tr>\n",
              "    <tr>\n",
              "      <th>20638</th>\n",
              "      <td>1.8672</td>\n",
              "      <td>18.0</td>\n",
              "      <td>5.329513</td>\n",
              "      <td>1.171920</td>\n",
              "      <td>741.0</td>\n",
              "      <td>2.123209</td>\n",
              "      <td>39.43</td>\n",
              "      <td>-121.32</td>\n",
              "      <td>0.847</td>\n",
              "    </tr>\n",
              "    <tr>\n",
              "      <th>20639</th>\n",
              "      <td>2.3886</td>\n",
              "      <td>16.0</td>\n",
              "      <td>5.254717</td>\n",
              "      <td>1.162264</td>\n",
              "      <td>1387.0</td>\n",
              "      <td>2.616981</td>\n",
              "      <td>39.37</td>\n",
              "      <td>-121.24</td>\n",
              "      <td>0.894</td>\n",
              "    </tr>\n",
              "  </tbody>\n",
              "</table>\n",
              "</div>"
            ],
            "text/plain": [
              "       MedInc  HouseAge  AveRooms  AveBedrms  Population  AveOccup  Latitude  \\\n",
              "20635  1.5603      25.0  5.045455   1.133333       845.0  2.560606     39.48   \n",
              "20636  2.5568      18.0  6.114035   1.315789       356.0  3.122807     39.49   \n",
              "20637  1.7000      17.0  5.205543   1.120092      1007.0  2.325635     39.43   \n",
              "20638  1.8672      18.0  5.329513   1.171920       741.0  2.123209     39.43   \n",
              "20639  2.3886      16.0  5.254717   1.162264      1387.0  2.616981     39.37   \n",
              "\n",
              "       Longitude  MedianHouseValue  \n",
              "20635    -121.09             0.781  \n",
              "20636    -121.21             0.771  \n",
              "20637    -121.22             0.923  \n",
              "20638    -121.32             0.847  \n",
              "20639    -121.24             0.894  "
            ]
          },
          "execution_count": 4,
          "metadata": {},
          "output_type": "execute_result"
        }
      ],
      "source": [
        "# Bottom 5 rowa\n",
        "housing_df.tail()"
      ]
    },
    {
      "cell_type": "code",
      "execution_count": 5,
      "metadata": {
        "colab": {
          "base_uri": "https://localhost:8080/"
        },
        "id": "-WIXEWgWoII7",
        "outputId": "48e7d0c3-2b1c-4ad3-eda5-74a204ec4bcf"
      },
      "outputs": [
        {
          "name": "stdout",
          "output_type": "stream",
          "text": [
            "<class 'pandas.core.frame.DataFrame'>\n",
            "RangeIndex: 20640 entries, 0 to 20639\n",
            "Data columns (total 9 columns):\n",
            " #   Column            Non-Null Count  Dtype  \n",
            "---  ------            --------------  -----  \n",
            " 0   MedInc            20640 non-null  float64\n",
            " 1   HouseAge          20640 non-null  float64\n",
            " 2   AveRooms          20640 non-null  float64\n",
            " 3   AveBedrms         20640 non-null  float64\n",
            " 4   Population        20640 non-null  float64\n",
            " 5   AveOccup          20640 non-null  float64\n",
            " 6   Latitude          20640 non-null  float64\n",
            " 7   Longitude         20640 non-null  float64\n",
            " 8   MedianHouseValue  20640 non-null  float64\n",
            "dtypes: float64(9)\n",
            "memory usage: 1.4 MB\n"
          ]
        }
      ],
      "source": [
        "# Technical information of the data\n",
        "housing_df.info()"
      ]
    },
    {
      "cell_type": "code",
      "execution_count": 6,
      "metadata": {
        "colab": {
          "base_uri": "https://localhost:8080/"
        },
        "id": "upM9P_pUoRXS",
        "outputId": "5762f68d-b702-441d-caa0-dffe73340da3"
      },
      "outputs": [
        {
          "data": {
            "text/plain": [
              "(20640, 9)"
            ]
          },
          "execution_count": 6,
          "metadata": {},
          "output_type": "execute_result"
        }
      ],
      "source": [
        "# Rows and columns of the data\n",
        "housing_df.shape"
      ]
    },
    {
      "cell_type": "markdown",
      "metadata": {
        "id": "vUENp6T0mJP4"
      },
      "source": [
        "##### **Data Visualization**"
      ]
    },
    {
      "cell_type": "markdown",
      "metadata": {
        "id": "WgDGnUJ_oD7T"
      },
      "source": [
        "**Investigating the relationship between variables**"
      ]
    },
    {
      "cell_type": "code",
      "execution_count": 7,
      "metadata": {
        "colab": {
          "base_uri": "https://localhost:8080/",
          "height": 509
        },
        "id": "wuRfEBWCoCEd",
        "outputId": "9c826891-95b8-481c-9b18-852a2ce2522f"
      },
      "outputs": [
        {
          "data": {
            "image/png": "[encoded data removed]",
            "text/plain": [
              "<Figure size 1000x400 with 2 Axes>"
            ]
          },
          "metadata": {},
          "output_type": "display_data"
        }
      ],
      "source": [
        "plt.figure(figsize=(10,4))\n",
        "sns.heatmap(data=housing_df.corr(), annot=True, annot_kws={'size':10}, fmt='.2f')\n",
        "plt.title(\"Correlation Between Numeric Features\")\n",
        "plt.show()"
      ]
    },
    {
      "cell_type": "markdown",
      "metadata": {
        "id": "Z3aS2OKzmJJM"
      },
      "source": [
        "**Investigating Linear Relationships among features**"
      ]
    },
    {
      "cell_type": "code",
      "execution_count": 8,
      "metadata": {
        "colab": {
          "base_uri": "https://localhost:8080/",
          "height": 474
        },
        "id": "1nv0xO5quM2X",
        "outputId": "0536a5e2-ef49-4f7e-add6-28fe7d08c969"
      },
      "outputs": [],
      "source": [
        "# g = sns.pairplot(data=housing_df, height=0.5, aspect=2.5)\n",
        "# for i, ax in enumerate(g.axes[:, 0]):\n",
        "#     if ax is not None:\n",
        "#         ax.set_ylabel(ax.get_ylabel(), rotation=90, ha='right')\n",
        "# plt.show()"
      ]
    },
    {
      "cell_type": "markdown",
      "metadata": {
        "id": "WVteGEYGmJAW"
      },
      "source": [
        "**Checking the distribution of median house values**"
      ]
    },
    {
      "cell_type": "code",
      "execution_count": 8,
      "metadata": {
        "colab": {
          "base_uri": "https://localhost:8080/",
          "height": 410
        },
        "id": "YyMHDwSuvfZ1",
        "outputId": "506578c4-a086-46de-e3b6-94cefbaf841e"
      },
      "outputs": [
        {
          "data": {
            "image/png": "[encoded data removed]",
            "text/plain": [
              "<Figure size 1000x400 with 1 Axes>"
            ]
          },
          "metadata": {},
          "output_type": "display_data"
        }
      ],
      "source": [
        "plt.figure(figsize=(10, 4))\n",
        "sns.histplot(data = housing_df, x = 'MedianHouseValue', kde=True)\n",
        "plt.title(\"Distribution of Median House Values\")\n",
        "plt.show()"
      ]
    },
    {
      "cell_type": "markdown",
      "metadata": {
        "id": "mZqcPfeUmICJ"
      },
      "source": [
        "#### **3. Data Preparation**"
      ]
    },
    {
      "cell_type": "markdown",
      "metadata": {
        "id": "5lyHgDV8mI0-"
      },
      "source": [
        "**Checking if the data has outliers**"
      ]
    },
    {
      "cell_type": "code",
      "execution_count": 9,
      "metadata": {
        "colab": {
          "base_uri": "https://localhost:8080/",
          "height": 411
        },
        "id": "PxtJsEd_zrEO",
        "outputId": "640e1d51-ec39-459a-b2d0-59e029dc8f3b"
      },
      "outputs": [
        {
          "data": {
            "image/png": "[encoded data removed]",
            "text/plain": [
              "<Figure size 640x480 with 1 Axes>"
            ]
          },
          "metadata": {},
          "output_type": "display_data"
        }
      ],
      "source": [
        "plt.figure()\n",
        "sns.boxplot(data=housing_df, y = 'MedianHouseValue')\n",
        "plt.show()"
      ]
    },
    {
      "cell_type": "code",
      "execution_count": 10,
      "metadata": {
        "colab": {
          "base_uri": "https://localhost:8080/",
          "height": 206
        },
        "id": "RmMAv5Fz8rUe",
        "outputId": "57546fcf-d99d-4e54-aebe-930d6be9e312"
      },
      "outputs": [
        {
          "data": {
            "text/html": [
              "<div>\n",
              "<style scoped>\n",
              "    .dataframe tbody tr th:only-of-type {\n",
              "        vertical-align: middle;\n",
              "    }\n",
              "\n",
              "    .dataframe tbody tr th {\n",
              "        vertical-align: top;\n",
              "    }\n",
              "\n",
              "    .dataframe thead th {\n",
              "        text-align: right;\n",
              "    }\n",
              "</style>\n",
              "<table border=\"1\" class=\"dataframe\">\n",
              "  <thead>\n",
              "    <tr style=\"text-align: right;\">\n",
              "      <th></th>\n",
              "      <th>MedInc</th>\n",
              "      <th>HouseAge</th>\n",
              "      <th>AveRooms</th>\n",
              "      <th>AveBedrms</th>\n",
              "      <th>Population</th>\n",
              "      <th>AveOccup</th>\n",
              "      <th>Latitude</th>\n",
              "      <th>Longitude</th>\n",
              "      <th>MedianHouseValue</th>\n",
              "    </tr>\n",
              "  </thead>\n",
              "  <tbody>\n",
              "    <tr>\n",
              "      <th>89</th>\n",
              "      <td>1.2434</td>\n",
              "      <td>52.0</td>\n",
              "      <td>2.929412</td>\n",
              "      <td>0.917647</td>\n",
              "      <td>396.0</td>\n",
              "      <td>4.658824</td>\n",
              "      <td>37.80</td>\n",
              "      <td>-122.27</td>\n",
              "      <td>5.00001</td>\n",
              "    </tr>\n",
              "    <tr>\n",
              "      <th>140</th>\n",
              "      <td>6.3624</td>\n",
              "      <td>30.0</td>\n",
              "      <td>5.615385</td>\n",
              "      <td>0.730769</td>\n",
              "      <td>126.0</td>\n",
              "      <td>2.423077</td>\n",
              "      <td>37.81</td>\n",
              "      <td>-122.18</td>\n",
              "      <td>4.83300</td>\n",
              "    </tr>\n",
              "    <tr>\n",
              "      <th>459</th>\n",
              "      <td>1.1696</td>\n",
              "      <td>52.0</td>\n",
              "      <td>2.436000</td>\n",
              "      <td>0.944000</td>\n",
              "      <td>1349.0</td>\n",
              "      <td>5.396000</td>\n",
              "      <td>37.87</td>\n",
              "      <td>-122.25</td>\n",
              "      <td>5.00001</td>\n",
              "    </tr>\n",
              "    <tr>\n",
              "      <th>489</th>\n",
              "      <td>3.0417</td>\n",
              "      <td>48.0</td>\n",
              "      <td>4.690632</td>\n",
              "      <td>1.126362</td>\n",
              "      <td>1656.0</td>\n",
              "      <td>3.607843</td>\n",
              "      <td>37.86</td>\n",
              "      <td>-122.25</td>\n",
              "      <td>4.89600</td>\n",
              "    </tr>\n",
              "    <tr>\n",
              "      <th>493</th>\n",
              "      <td>7.8521</td>\n",
              "      <td>52.0</td>\n",
              "      <td>7.794393</td>\n",
              "      <td>1.051402</td>\n",
              "      <td>517.0</td>\n",
              "      <td>2.415888</td>\n",
              "      <td>37.86</td>\n",
              "      <td>-122.24</td>\n",
              "      <td>5.00001</td>\n",
              "    </tr>\n",
              "  </tbody>\n",
              "</table>\n",
              "</div>"
            ],
            "text/plain": [
              "     MedInc  HouseAge  AveRooms  AveBedrms  Population  AveOccup  Latitude  \\\n",
              "89   1.2434      52.0  2.929412   0.917647       396.0  4.658824     37.80   \n",
              "140  6.3624      30.0  5.615385   0.730769       126.0  2.423077     37.81   \n",
              "459  1.1696      52.0  2.436000   0.944000      1349.0  5.396000     37.87   \n",
              "489  3.0417      48.0  4.690632   1.126362      1656.0  3.607843     37.86   \n",
              "493  7.8521      52.0  7.794393   1.051402       517.0  2.415888     37.86   \n",
              "\n",
              "     Longitude  MedianHouseValue  \n",
              "89     -122.27           5.00001  \n",
              "140    -122.18           4.83300  \n",
              "459    -122.25           5.00001  \n",
              "489    -122.25           4.89600  \n",
              "493    -122.24           5.00001  "
            ]
          },
          "execution_count": 10,
          "metadata": {},
          "output_type": "execute_result"
        }
      ],
      "source": [
        "q1 = np.percentile(housing_df[\"MedianHouseValue\"], 25)\n",
        "q3 = np.percentile(housing_df[\"MedianHouseValue\"], 75)\n",
        "iqr = q3 - q1\n",
        "lower = q1 - 1.5*iqr\n",
        "upper = q3 + 1.5*iqr\n",
        "# housing_df[housing_df['MedianHouseValue']<= lower]\n",
        "housing_df[housing_df['MedianHouseValue']>= upper].head()"
      ]
    },
    {
      "cell_type": "markdown",
      "metadata": {
        "id": "FM-nvQt5L1nl"
      },
      "source": [
        "There are several outliers in the housing data median house value"
      ]
    },
    {
      "cell_type": "code",
      "execution_count": 11,
      "metadata": {
        "colab": {
          "base_uri": "https://localhost:8080/",
          "height": 206
        },
        "id": "R21BEPbfL07f",
        "outputId": "52e86d54-79d4-4d64-e546-5750d79b4ec8"
      },
      "outputs": [
        {
          "data": {
            "text/html": [
              "<div>\n",
              "<style scoped>\n",
              "    .dataframe tbody tr th:only-of-type {\n",
              "        vertical-align: middle;\n",
              "    }\n",
              "\n",
              "    .dataframe tbody tr th {\n",
              "        vertical-align: top;\n",
              "    }\n",
              "\n",
              "    .dataframe thead th {\n",
              "        text-align: right;\n",
              "    }\n",
              "</style>\n",
              "<table border=\"1\" class=\"dataframe\">\n",
              "  <thead>\n",
              "    <tr style=\"text-align: right;\">\n",
              "      <th></th>\n",
              "      <th>MedInc</th>\n",
              "      <th>HouseAge</th>\n",
              "      <th>AveRooms</th>\n",
              "      <th>AveBedrms</th>\n",
              "      <th>Population</th>\n",
              "      <th>AveOccup</th>\n",
              "      <th>Latitude</th>\n",
              "      <th>Longitude</th>\n",
              "      <th>LogValue</th>\n",
              "    </tr>\n",
              "  </thead>\n",
              "  <tbody>\n",
              "    <tr>\n",
              "      <th>0</th>\n",
              "      <td>8.3252</td>\n",
              "      <td>41.0</td>\n",
              "      <td>6.984127</td>\n",
              "      <td>1.023810</td>\n",
              "      <td>322.0</td>\n",
              "      <td>2.555556</td>\n",
              "      <td>37.88</td>\n",
              "      <td>-122.23</td>\n",
              "      <td>1.709464</td>\n",
              "    </tr>\n",
              "    <tr>\n",
              "      <th>1</th>\n",
              "      <td>8.3014</td>\n",
              "      <td>21.0</td>\n",
              "      <td>6.238137</td>\n",
              "      <td>0.971880</td>\n",
              "      <td>2401.0</td>\n",
              "      <td>2.109842</td>\n",
              "      <td>37.86</td>\n",
              "      <td>-122.22</td>\n",
              "      <td>1.522790</td>\n",
              "    </tr>\n",
              "    <tr>\n",
              "      <th>2</th>\n",
              "      <td>7.2574</td>\n",
              "      <td>52.0</td>\n",
              "      <td>8.288136</td>\n",
              "      <td>1.073446</td>\n",
              "      <td>496.0</td>\n",
              "      <td>2.802260</td>\n",
              "      <td>37.85</td>\n",
              "      <td>-122.24</td>\n",
              "      <td>1.508733</td>\n",
              "    </tr>\n",
              "    <tr>\n",
              "      <th>3</th>\n",
              "      <td>5.6431</td>\n",
              "      <td>52.0</td>\n",
              "      <td>5.817352</td>\n",
              "      <td>1.073059</td>\n",
              "      <td>558.0</td>\n",
              "      <td>2.547945</td>\n",
              "      <td>37.85</td>\n",
              "      <td>-122.25</td>\n",
              "      <td>1.484555</td>\n",
              "    </tr>\n",
              "    <tr>\n",
              "      <th>4</th>\n",
              "      <td>3.8462</td>\n",
              "      <td>52.0</td>\n",
              "      <td>6.281853</td>\n",
              "      <td>1.081081</td>\n",
              "      <td>565.0</td>\n",
              "      <td>2.181467</td>\n",
              "      <td>37.85</td>\n",
              "      <td>-122.25</td>\n",
              "      <td>1.486592</td>\n",
              "    </tr>\n",
              "  </tbody>\n",
              "</table>\n",
              "</div>"
            ],
            "text/plain": [
              "   MedInc  HouseAge  AveRooms  AveBedrms  Population  AveOccup  Latitude  \\\n",
              "0  8.3252      41.0  6.984127   1.023810       322.0  2.555556     37.88   \n",
              "1  8.3014      21.0  6.238137   0.971880      2401.0  2.109842     37.86   \n",
              "2  7.2574      52.0  8.288136   1.073446       496.0  2.802260     37.85   \n",
              "3  5.6431      52.0  5.817352   1.073059       558.0  2.547945     37.85   \n",
              "4  3.8462      52.0  6.281853   1.081081       565.0  2.181467     37.85   \n",
              "\n",
              "   Longitude  LogValue  \n",
              "0    -122.23  1.709464  \n",
              "1    -122.22  1.522790  \n",
              "2    -122.24  1.508733  \n",
              "3    -122.25  1.484555  \n",
              "4    -122.25  1.486592  "
            ]
          },
          "execution_count": 11,
          "metadata": {},
          "output_type": "execute_result"
        }
      ],
      "source": [
        "df = housing_df.copy().drop(columns = ['MedianHouseValue'])\n",
        "df['LogValue'] = np.log1p(housing_df['MedianHouseValue'])\n",
        "df.head()"
      ]
    },
    {
      "cell_type": "code",
      "execution_count": 12,
      "metadata": {
        "colab": {
          "base_uri": "https://localhost:8080/",
          "height": 411
        },
        "id": "9vJkDhUXMl5Y",
        "outputId": "0a2159cc-2e79-4803-918c-a4d448753d30"
      },
      "outputs": [
        {
          "data": {
            "image/png": "[encoded data removed]",
            "text/plain": [
              "<Figure size 640x480 with 1 Axes>"
            ]
          },
          "metadata": {},
          "output_type": "display_data"
        }
      ],
      "source": [
        "sns.boxplot(data=df, y = 'LogValue')\n",
        "plt.show()"
      ]
    },
    {
      "cell_type": "markdown",
      "metadata": {
        "id": "euUR4ps_Ojf-"
      },
      "source": [
        "**Checking Missing Values**"
      ]
    },
    {
      "cell_type": "code",
      "execution_count": 13,
      "metadata": {
        "colab": {
          "base_uri": "https://localhost:8080/",
          "height": 84
        },
        "id": "7GVEgZYlWG8_",
        "outputId": "4a8502f7-de04-426b-c441-73ca20d33008"
      },
      "outputs": [
        {
          "data": {
            "text/plain": [
              "Series([], dtype: int64)"
            ]
          },
          "execution_count": 13,
          "metadata": {},
          "output_type": "execute_result"
        }
      ],
      "source": [
        "df.isna().sum()[df.isna().sum()!=0]"
      ]
    },
    {
      "cell_type": "markdown",
      "metadata": {
        "id": "hmh4-e7COxJ8"
      },
      "source": [
        "**Checking if there are duplicates**"
      ]
    },
    {
      "cell_type": "code",
      "execution_count": 14,
      "metadata": {
        "colab": {
          "base_uri": "https://localhost:8080/"
        },
        "id": "PZKOnLx-Oqtm",
        "outputId": "c51047d9-c3d4-4d18-8d52-26054f0f3fce"
      },
      "outputs": [
        {
          "data": {
            "text/plain": [
              "0"
            ]
          },
          "execution_count": 14,
          "metadata": {},
          "output_type": "execute_result"
        }
      ],
      "source": [
        "df.duplicated().sum()"
      ]
    },
    {
      "cell_type": "markdown",
      "metadata": {
        "id": "bVKA_yt3PITT"
      },
      "source": [
        "**Splitting Data**"
      ]
    },
    {
      "cell_type": "code",
      "execution_count": 62,
      "metadata": {
        "id": "yM-rbw-fO38P"
      },
      "outputs": [],
      "source": [
        "# Import required libraries\n",
        "from sklearn.model_selection import train_test_split\n",
        "from sklearn.preprocessing import StandardScaler\n",
        "from sklearn.impute import SimpleImputer\n",
        "from sklearn.compose import ColumnTransformer\n",
        "from sklearn.pipeline import Pipeline\n",
        "\n",
        "X = df.drop(columns='LogValue')\n",
        "y = housing_df['MedianHouseValue'] #LogValue\n",
        "\n",
        "# Creating a pipeline - The data has numeric features only.\n",
        "numeric_pipeline = Pipeline(steps = [\n",
        "    ('scaler', StandardScaler()),\n",
        "    ('imputer', SimpleImputer(strategy = 'mean'))\n",
        "])\n",
        "\n",
        "# Combining preprocessing.\n",
        "preprocessor = ColumnTransformer(transformers = [('num',numeric_pipeline, X.select_dtypes(include = np.number).columns.to_list())])\n",
        "\n",
        "# Fit and transform data\n",
        "X_transformed = preprocessor.fit_transform(X)\n",
        "X_transformed = pd.DataFrame(X_transformed, columns=X.select_dtypes(include=np.number).columns.to_list())"
      ]
    },
    {
      "cell_type": "code",
      "execution_count": 64,
      "metadata": {
        "id": "bklJl_NVRavD"
      },
      "outputs": [],
      "source": [
        "# Splitting the data\n",
        "x_train, x_test, y_train, y_test = train_test_split(X_transformed, y, test_size=0.2, random_state=123)"
      ]
    },
    {
      "cell_type": "markdown",
      "metadata": {
        "id": "bMzbNY5pTNOp"
      },
      "source": [
        "#### **4. Building a Regression Model**"
      ]
    },
    {
      "cell_type": "code",
      "execution_count": 65,
      "metadata": {
        "id": "yoJ-pVNTTYzP"
      },
      "outputs": [],
      "source": [
        "# Import required libraries\n",
        "from sklearn.metrics import  r2_score"
      ]
    },
    {
      "cell_type": "markdown",
      "metadata": {
        "id": "bG7lnV8vTRfU"
      },
      "source": [
        "##### **K-Nearest Neighbors (KNN) Model**"
      ]
    },
    {
      "cell_type": "code",
      "execution_count": 69,
      "metadata": {
        "colab": {
          "base_uri": "https://localhost:8080/"
        },
        "id": "IVEwY13fSO2K",
        "outputId": "4952ef1f-eb25-4acc-fa32-494678190838"
      },
      "outputs": [
        {
          "name": "stdout",
          "output_type": "stream",
          "text": [
            "R2 Score: 0.6906\n"
          ]
        }
      ],
      "source": [
        "# Import the KNeighbors regressor\n",
        "from sklearn.neighbors import KNeighborsRegressor\n",
        "\n",
        "# Defining the model\n",
        "knn_reg = KNeighborsRegressor()\n",
        "\n",
        "# Training the model\n",
        "knn_reg.fit(x_train, y_train)\n",
        "\n",
        "# Making predictions\n",
        "pred = knn_reg.predict(x_test)\n",
        "\n",
        "# Evaluating the model\n",
        "print(f'R2 Score: {round(r2_score(y_test, pred), 4)}')"
      ]
    },
    {
      "cell_type": "markdown",
      "metadata": {
        "id": "cexp6oZJU07f"
      },
      "source": [
        "#### **5. Hyperparameter tuning**\n",
        "- Here also, 5-fold cross validation is applied."
      ]
    },
    {
      "cell_type": "code",
      "execution_count": 75,
      "metadata": {
        "colab": {
          "base_uri": "https://localhost:8080/"
        },
        "id": "7TMugs0SUe55",
        "outputId": "83a4ea6d-960a-4cb6-f0d1-25a50a8488e9"
      },
      "outputs": [
        {
          "name": "stdout",
          "output_type": "stream",
          "text": [
            "Fitting 5 folds for each of 16 candidates, totalling 80 fits\n",
            "Optimal Parameters:  {'regressor__knn_reg2__n_neighbors': 9, 'regressor__knn_reg2__p': 1, 'regressor__knn_reg2__weights': 'distance'}\n",
            "Best CV R2 Score:  0.7263\n"
          ]
        }
      ],
      "source": [
        "from sklearn.model_selection import  GridSearchCV, KFold\n",
        "from sklearn.preprocessing import FunctionTransformer\n",
        "from sklearn.compose import TransformedTargetRegressor\n",
        "\n",
        "# Adding the output converter to the pipeline\n",
        "base_pipeline = Pipeline(steps=[\n",
        "    ('preprocessor', preprocessor),\n",
        "    ('knn_reg2', KNeighborsRegressor())\n",
        "]) \n",
        "# Defining K-Fold cross validation\n",
        "kf = KFold(n_splits = 5, shuffle = True, random_state = 123)\n",
        "\n",
        "# Defining parameters to search\n",
        "param_to_search = {\n",
        "    'regressor__knn_reg2__n_neighbors': [3, 5, 7, 9],\n",
        "    'regressor__knn_reg2__weights': ['uniform', 'distance'],\n",
        "    'regressor__knn_reg2__p': [1, 2]\n",
        "}\n",
        "\n",
        "final_regressor = TransformedTargetRegressor(\n",
        "  regressor=base_pipeline,\n",
        "  func=np.log1p,\n",
        "  inverse_func=np.expm1\n",
        "  )\n",
        "\n",
        "# Applying GridSearchCV\n",
        "grid = GridSearchCV(estimator = final_regressor, param_grid=param_to_search, cv = kf, scoring='r2', verbose=1, n_jobs=1)\n",
        "\n",
        "# Fiting the grid to training data\n",
        "grid.fit(x_train, y_train)\n",
        "\n",
        "# Obtaining the best parameters and score of the model\n",
        "print(\"Optimal Parameters: \", grid.best_params_)\n",
        "print(\"Best CV R2 Score: \", grid.best_score_.round(4))"
      ]
    },
    {
      "cell_type": "markdown",
      "metadata": {},
      "source": [
        "**Evaluating the model on the test set**"
      ]
    },
    {
      "cell_type": "code",
      "execution_count": null,
      "metadata": {},
      "outputs": [
        {
          "name": "stdout",
          "output_type": "stream",
          "text": [
            "The test set R2 Score:  0.7344\n"
          ]
        }
      ],
      "source": [
        "# Making predictions on the test set\n",
        "predictions = grid.predict(x_test)\n",
        "# Evaluating the model on the test set\n",
        "test_score = r2_score(y_test, predictions)\n",
        "print(\"The test set R2 Score: \", round(test_score, 4))"
      ]
    },
    {
      "cell_type": "markdown",
      "metadata": {
        "id": "9L9gghIeiQun"
      },
      "source": [
        "#### **6. Exporting the Model for Deployment**"
      ]
    },
    {
      "cell_type": "code",
      "execution_count": 83,
      "metadata": {
        "colab": {
          "base_uri": "https://localhost:8080/"
        },
        "id": "Hd2B74hmjbrB",
        "outputId": "416abea1-3622-47de-b779-6b94471f2aa2"
      },
      "outputs": [
        {
          "name": "stdout",
          "output_type": "stream",
          "text": [
            "The pipeline has been saved to 'california_knn_model.pkl'\n"
          ]
        }
      ],
      "source": [
        "# Importing pickle for saving the model\n",
        "import pickle\n",
        "# Save the pipeline\n",
        "with open('california_knn_model.pkl', 'wb') as m:\n",
        "  pickle.dump(grid, m)\n",
        "\n",
        "print(\"The pipeline has been saved to 'california_knn_model.pkl'\")\n"
      ]
    },
    {
      "cell_type": "code",
      "execution_count": 24,
      "metadata": {
        "id": "26fndqLh2qeO"
      },
      "outputs": [
        {
          "data": {
            "text/html": [
              "<div>\n",
              "<style scoped>\n",
              "    .dataframe tbody tr th:only-of-type {\n",
              "        vertical-align: middle;\n",
              "    }\n",
              "\n",
              "    .dataframe tbody tr th {\n",
              "        vertical-align: top;\n",
              "    }\n",
              "\n",
              "    .dataframe thead th {\n",
              "        text-align: right;\n",
              "    }\n",
              "</style>\n",
              "<table border=\"1\" class=\"dataframe\">\n",
              "  <thead>\n",
              "    <tr style=\"text-align: right;\">\n",
              "      <th></th>\n",
              "      <th>MedInc</th>\n",
              "      <th>HouseAge</th>\n",
              "      <th>AveRooms</th>\n",
              "      <th>AveBedrms</th>\n",
              "      <th>Population</th>\n",
              "      <th>AveOccup</th>\n",
              "      <th>Latitude</th>\n",
              "      <th>Longitude</th>\n",
              "      <th>MedianHouseValue</th>\n",
              "    </tr>\n",
              "  </thead>\n",
              "  <tbody>\n",
              "    <tr>\n",
              "      <th>0</th>\n",
              "      <td>8.3252</td>\n",
              "      <td>41.0</td>\n",
              "      <td>6.984127</td>\n",
              "      <td>1.023810</td>\n",
              "      <td>322.0</td>\n",
              "      <td>2.555556</td>\n",
              "      <td>37.88</td>\n",
              "      <td>-122.23</td>\n",
              "      <td>4.526</td>\n",
              "    </tr>\n",
              "    <tr>\n",
              "      <th>1</th>\n",
              "      <td>8.3014</td>\n",
              "      <td>21.0</td>\n",
              "      <td>6.238137</td>\n",
              "      <td>0.971880</td>\n",
              "      <td>2401.0</td>\n",
              "      <td>2.109842</td>\n",
              "      <td>37.86</td>\n",
              "      <td>-122.22</td>\n",
              "      <td>3.585</td>\n",
              "    </tr>\n",
              "    <tr>\n",
              "      <th>2</th>\n",
              "      <td>7.2574</td>\n",
              "      <td>52.0</td>\n",
              "      <td>8.288136</td>\n",
              "      <td>1.073446</td>\n",
              "      <td>496.0</td>\n",
              "      <td>2.802260</td>\n",
              "      <td>37.85</td>\n",
              "      <td>-122.24</td>\n",
              "      <td>3.521</td>\n",
              "    </tr>\n",
              "    <tr>\n",
              "      <th>3</th>\n",
              "      <td>5.6431</td>\n",
              "      <td>52.0</td>\n",
              "      <td>5.817352</td>\n",
              "      <td>1.073059</td>\n",
              "      <td>558.0</td>\n",
              "      <td>2.547945</td>\n",
              "      <td>37.85</td>\n",
              "      <td>-122.25</td>\n",
              "      <td>3.413</td>\n",
              "    </tr>\n",
              "    <tr>\n",
              "      <th>4</th>\n",
              "      <td>3.8462</td>\n",
              "      <td>52.0</td>\n",
              "      <td>6.281853</td>\n",
              "      <td>1.081081</td>\n",
              "      <td>565.0</td>\n",
              "      <td>2.181467</td>\n",
              "      <td>37.85</td>\n",
              "      <td>-122.25</td>\n",
              "      <td>3.422</td>\n",
              "    </tr>\n",
              "  </tbody>\n",
              "</table>\n",
              "</div>"
            ],
            "text/plain": [
              "   MedInc  HouseAge  AveRooms  AveBedrms  Population  AveOccup  Latitude  \\\n",
              "0  8.3252      41.0  6.984127   1.023810       322.0  2.555556     37.88   \n",
              "1  8.3014      21.0  6.238137   0.971880      2401.0  2.109842     37.86   \n",
              "2  7.2574      52.0  8.288136   1.073446       496.0  2.802260     37.85   \n",
              "3  5.6431      52.0  5.817352   1.073059       558.0  2.547945     37.85   \n",
              "4  3.8462      52.0  6.281853   1.081081       565.0  2.181467     37.85   \n",
              "\n",
              "   Longitude  MedianHouseValue  \n",
              "0    -122.23             4.526  \n",
              "1    -122.22             3.585  \n",
              "2    -122.24             3.521  \n",
              "3    -122.25             3.413  \n",
              "4    -122.25             3.422  "
            ]
          },
          "execution_count": 24,
          "metadata": {},
          "output_type": "execute_result"
        }
      ],
      "source": [
        "housing_df.head()"
      ]
    },
    {
      "cell_type": "code",
      "execution_count": null,
      "metadata": {},
      "outputs": [],
      "source": [
        "# housing_df.drop(columns=['MedianHouseValue']).to_csv('california_housing_x_data.csv', index=False)"
      ]
    }
  ],
  "metadata": {
    "colab": {
      "collapsed_sections": [
        "rPJVR6L3mJjQ",
        "mfjteGK-mJWx",
        "mZqcPfeUmICJ",
        "bMzbNY5pTNOp",
        "cexp6oZJU07f"
      ],
      "provenance": []
    },
    "kernelspec": {
      "display_name": "Python 3",
      "name": "python3"
    },
    "language_info": {
      "codemirror_mode": {
        "name": "ipython",
        "version": 3
      },
      "file_extension": ".py",
      "mimetype": "text/x-python",
      "name": "python",
      "nbconvert_exporter": "python",
      "pygments_lexer": "ipython3",
      "version": "3.11.4"
    }
  },
  "nbformat": 4,
  "nbformat_minor": 0
}
